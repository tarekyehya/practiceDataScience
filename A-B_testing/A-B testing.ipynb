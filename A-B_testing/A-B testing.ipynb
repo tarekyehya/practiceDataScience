{
 "cells": [
  {
   "cell_type": "markdown",
   "id": "danish-special",
   "metadata": {},
   "source": [
    "### we have a dataset produced by a website that doing experemint to know that the change in the homepage will be better of not"
   ]
  },
  {
   "cell_type": "code",
   "execution_count": 35,
   "id": "bright-future",
   "metadata": {},
   "outputs": [],
   "source": [
    "import numpy as np\n",
    "import pandas as pd\n",
    "import matplotlib.pyplot as plt"
   ]
  },
  {
   "cell_type": "code",
   "execution_count": 3,
   "id": "municipal-burst",
   "metadata": {},
   "outputs": [],
   "source": [
    "df = pd.read_csv(\"homepage_actions.csv\")"
   ]
  },
  {
   "cell_type": "code",
   "execution_count": 4,
   "id": "disabled-commander",
   "metadata": {},
   "outputs": [
    {
     "data": {
      "text/html": [
       "<div>\n",
       "<style scoped>\n",
       "    .dataframe tbody tr th:only-of-type {\n",
       "        vertical-align: middle;\n",
       "    }\n",
       "\n",
       "    .dataframe tbody tr th {\n",
       "        vertical-align: top;\n",
       "    }\n",
       "\n",
       "    .dataframe thead th {\n",
       "        text-align: right;\n",
       "    }\n",
       "</style>\n",
       "<table border=\"1\" class=\"dataframe\">\n",
       "  <thead>\n",
       "    <tr style=\"text-align: right;\">\n",
       "      <th></th>\n",
       "      <th>timestamp</th>\n",
       "      <th>id</th>\n",
       "      <th>group</th>\n",
       "      <th>action</th>\n",
       "    </tr>\n",
       "  </thead>\n",
       "  <tbody>\n",
       "    <tr>\n",
       "      <th>0</th>\n",
       "      <td>2016-09-24 17:42:27.839496</td>\n",
       "      <td>804196</td>\n",
       "      <td>experiment</td>\n",
       "      <td>view</td>\n",
       "    </tr>\n",
       "    <tr>\n",
       "      <th>1</th>\n",
       "      <td>2016-09-24 19:19:03.542569</td>\n",
       "      <td>434745</td>\n",
       "      <td>experiment</td>\n",
       "      <td>view</td>\n",
       "    </tr>\n",
       "    <tr>\n",
       "      <th>2</th>\n",
       "      <td>2016-09-24 19:36:00.944135</td>\n",
       "      <td>507599</td>\n",
       "      <td>experiment</td>\n",
       "      <td>view</td>\n",
       "    </tr>\n",
       "    <tr>\n",
       "      <th>3</th>\n",
       "      <td>2016-09-24 19:59:02.646620</td>\n",
       "      <td>671993</td>\n",
       "      <td>control</td>\n",
       "      <td>view</td>\n",
       "    </tr>\n",
       "    <tr>\n",
       "      <th>4</th>\n",
       "      <td>2016-09-24 20:26:14.466886</td>\n",
       "      <td>536734</td>\n",
       "      <td>experiment</td>\n",
       "      <td>view</td>\n",
       "    </tr>\n",
       "  </tbody>\n",
       "</table>\n",
       "</div>"
      ],
      "text/plain": [
       "                    timestamp      id       group action\n",
       "0  2016-09-24 17:42:27.839496  804196  experiment   view\n",
       "1  2016-09-24 19:19:03.542569  434745  experiment   view\n",
       "2  2016-09-24 19:36:00.944135  507599  experiment   view\n",
       "3  2016-09-24 19:59:02.646620  671993     control   view\n",
       "4  2016-09-24 20:26:14.466886  536734  experiment   view"
      ]
     },
     "execution_count": 4,
     "metadata": {},
     "output_type": "execute_result"
    }
   ],
   "source": [
    "df.head()"
   ]
  },
  {
   "cell_type": "markdown",
   "id": "accomplished-profile",
   "metadata": {},
   "source": [
    "### we have tow groups control and eperiment, and we need to know who is make more clicks."
   ]
  },
  {
   "cell_type": "markdown",
   "id": "northern-browse",
   "metadata": {},
   "source": [
    " - hypothes:\n",
    "           - null : no change or control group better than experiment group\n",
    "           - alternative : experiment group better than control group\n",
    " - p-value = 0.01, less than this value we can regect the null hypothes"
   ]
  },
  {
   "cell_type": "code",
   "execution_count": 5,
   "id": "particular-kidney",
   "metadata": {},
   "outputs": [
    {
     "data": {
      "text/plain": [
       "(8188, 4)"
      ]
     },
     "execution_count": 5,
     "metadata": {},
     "output_type": "execute_result"
    }
   ],
   "source": [
    "df.shape"
   ]
  },
  {
   "cell_type": "markdown",
   "id": "failing-officer",
   "metadata": {},
   "source": [
    "### we can do all steps in all data\n",
    "### we can do difference between rate of clicks in the tow groups\n",
    "##### M1 - M2 <= 0 -------> null\n",
    "##### M1 - M2 > 0 -----> alternative"
   ]
  },
  {
   "cell_type": "markdown",
   "id": "conservative-consensus",
   "metadata": {},
   "source": [
    "### rate of clicks"
   ]
  },
  {
   "cell_type": "code",
   "execution_count": 25,
   "id": "charged-young",
   "metadata": {},
   "outputs": [],
   "source": [
    "# rate of clicks to unique users\n",
    "# control\n",
    "control = df.query('group == \"control\"')\n",
    "con_rate = control.query('action == \"click\"').id.nunique() / control.query('action == \"view\"').id.nunique()"
   ]
  },
  {
   "cell_type": "code",
   "execution_count": 26,
   "id": "mature-crazy",
   "metadata": {},
   "outputs": [
    {
     "data": {
      "text/plain": [
       "0.2797118847539016"
      ]
     },
     "execution_count": 26,
     "metadata": {},
     "output_type": "execute_result"
    }
   ],
   "source": [
    "con_rate"
   ]
  },
  {
   "cell_type": "code",
   "execution_count": 28,
   "id": "deluxe-knock",
   "metadata": {},
   "outputs": [],
   "source": [
    "# experiment group\n",
    "experiment = df.query('group == \"experiment\"')\n",
    "exp_rate = experiment.query('action == \"click\"').id.nunique() / experiment.query('action == \"view\"').id.nunique()"
   ]
  },
  {
   "cell_type": "code",
   "execution_count": 29,
   "id": "sharing-tribune",
   "metadata": {},
   "outputs": [
    {
     "data": {
      "text/plain": [
       "0.3097463284379172"
      ]
     },
     "execution_count": 29,
     "metadata": {},
     "output_type": "execute_result"
    }
   ],
   "source": [
    "exp_rate"
   ]
  },
  {
   "cell_type": "code",
   "execution_count": 30,
   "id": "ruled-context",
   "metadata": {},
   "outputs": [
    {
     "data": {
      "text/plain": [
       "0.030034443684015644"
      ]
     },
     "execution_count": 30,
     "metadata": {},
     "output_type": "execute_result"
    }
   ],
   "source": [
    "diff_rate =  exp_rate - con_rate\n",
    "diff_rate"
   ]
  },
  {
   "cell_type": "markdown",
   "id": "hispanic-cooler",
   "metadata": {},
   "source": [
    "#### we need to test this results, by chance or the true ? A/B testing"
   ]
  },
  {
   "cell_type": "markdown",
   "id": "diverse-think",
   "metadata": {},
   "source": [
    "- bootstraping to the tow groups\n"
   ]
  },
  {
   "cell_type": "code",
   "execution_count": 32,
   "id": "spatial-chrome",
   "metadata": {},
   "outputs": [],
   "source": [
    "diff = []\n",
    "for i in range(10000):\n",
    "    # bootstrap\n",
    "    df_sample = df.sample(df.shape[0],replace = True) \n",
    "    \n",
    "    # rate of clicks to unique users of control\n",
    "    control_sample = df_sample.query('group == \"control\"')\n",
    "    con_rate_sample = control_sample.query('action == \"click\"').id.nunique() / control_sample.query('action == \"view\"').id.nunique()\n",
    "    \n",
    "    # rate of clicks to unique users of control\n",
    "    experiment_sample = df_sample.query('group == \"experiment\"')\n",
    "    exp_rate_sample = experiment_sample.query('action == \"click\"').id.nunique() / experiment_sample.query('action == \"view\"').id.nunique()\n",
    "    \n",
    "    # sampling distripution\n",
    "    diff.append(exp_rate_sample-con_rate_sample)"
   ]
  },
  {
   "cell_type": "code",
   "execution_count": 37,
   "id": "valid-thompson",
   "metadata": {},
   "outputs": [
    {
     "data": {
      "image/png": "[encoded data removed]",
      "text/plain": [
       "<Figure size 432x288 with 1 Axes>"
      ]
     },
     "metadata": {
      "needs_background": "light"
     },
     "output_type": "display_data"
    }
   ],
   "source": [
    "plt.hist(diff);"
   ]
  },
  {
   "cell_type": "code",
   "execution_count": 39,
   "id": "asian-consideration",
   "metadata": {},
   "outputs": [],
   "source": [
    "# normal distrpution to null hypothes\n",
    "# null hypothes say no change, then the mean of this distrpution is zero\n",
    "null = np.random.normal(0,np.std(diff),10000)"
   ]
  },
  {
   "cell_type": "code",
   "execution_count": 40,
   "id": "indirect-store",
   "metadata": {},
   "outputs": [
    {
     "data": {
      "image/png": "[encoded data removed]",
      "text/plain": [
       "<Figure size 432x288 with 1 Axes>"
      ]
     },
     "metadata": {
      "needs_background": "light"
     },
     "output_type": "display_data"
    }
   ],
   "source": [
    "plt.hist(null);"
   ]
  },
  {
   "cell_type": "code",
   "execution_count": 42,
   "id": "russian-madison",
   "metadata": {},
   "outputs": [
    {
     "data": {
      "image/png": "[encoded data removed]",
      "text/plain": [
       "<Figure size 432x288 with 1 Axes>"
      ]
     },
     "metadata": {
      "needs_background": "light"
     },
     "output_type": "display_data"
    }
   ],
   "source": [
    "plt.hist(null);\n",
    "plt.axvline(x=diff_rate,color='red');\n",
    "plt.show()"
   ]
  },
  {
   "cell_type": "markdown",
   "id": "hispanic-blink",
   "metadata": {},
   "source": [
    "#### by plots, we can say the null is not true, but we need to calculate the p-value"
   ]
  },
  {
   "cell_type": "markdown",
   "id": "extreme-empty",
   "metadata": {},
   "source": [
    "- p-value"
   ]
  },
  {
   "cell_type": "code",
   "execution_count": 45,
   "id": "played-january",
   "metadata": {},
   "outputs": [
    {
     "data": {
      "text/plain": [
       "0.0051"
      ]
     },
     "execution_count": 45,
     "metadata": {},
     "output_type": "execute_result"
    }
   ],
   "source": [
    "# calculate it by take the mean of all  values in the null that less that our statistic\n",
    "# ((we consider all the data is a smple, we can't say parameter))\n",
    "p_value = (null >= diff_rate).mean()\n",
    "p_value"
   ]
  },
  {
   "cell_type": "markdown",
   "id": "spare-channel",
   "metadata": {},
   "source": [
    "### p-value is less than 0.01, reject the null hypothes."
   ]
  }
 ],
 "metadata": {
  "kernelspec": {
   "display_name": "Python 3",
   "language": "python",
   "name": "python3"
  },
  "language_info": {
   "codemirror_mode": {
    "name": "ipython",
    "version": 3
   },
   "file_extension": ".py",
   "mimetype": "text/x-python",
   "name": "python",
   "nbconvert_exporter": "python",
   "pygments_lexer": "ipython3",
   "version": "3.8.5"
  }
 },
 "nbformat": 4,
 "nbformat_minor": 5
}
