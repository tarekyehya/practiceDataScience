{
 "cells": [
  {
   "cell_type": "code",
   "execution_count": 1,
   "id": "2e26b35a",
   "metadata": {},
   "outputs": [],
   "source": [
    "import time"
   ]
  },
  {
   "cell_type": "markdown",
   "id": "9bb9e483",
   "metadata": {},
   "source": [
    "## 2.1 Insertion sort"
   ]
  },
  {
   "cell_type": "markdown",
   "id": "a00ab39b",
   "metadata": {},
   "source": [
    "> solves the sorting problem"
   ]
  },
  {
   "cell_type": "code",
   "execution_count": 4,
   "id": "141687ed",
   "metadata": {},
   "outputs": [],
   "source": [
    "\n",
    "def insertion_sort(arr):\n",
    "    \n",
    "    for j in range(1,len(arr)): # use index of the comming number\n",
    "        key = arr[j]\n",
    "        i = j - 1\n",
    "        while i >= 0 and arr[i] > key: # i in the array index & still key bigger than the current number\n",
    "            arr[i + 1] = arr[i] # rewrite the next number by current \n",
    "            i = i - 1 # to look at the previous number\n",
    "        arr[i + 1] = key  # insert the number in the right \n",
    "    return arr\n",
    "    "
   ]
  },
  {
   "cell_type": "code",
   "execution_count": 9,
   "id": "463a5a86",
   "metadata": {},
   "outputs": [
    {
     "name": "stdout",
     "output_type": "stream",
     "text": [
      "[1, 2, 3, 4, 5, 6] \n",
      "time spend :0.00017380714416503906\n"
     ]
    }
   ],
   "source": [
    "A = [2,4,5,6,1,3]\n",
    "start_time = time.time()\n",
    "print(insertion_sort(A),\"\\ntime spend :\"+str(time.time()-start_time))"
   ]
  },
  {
   "cell_type": "code",
   "execution_count": null,
   "id": "3bb37c96",
   "metadata": {},
   "outputs": [],
   "source": []
  }
 ],
 "metadata": {
  "kernelspec": {
   "display_name": "Python 3",
   "language": "python",
   "name": "python3"
  },
  "language_info": {
   "codemirror_mode": {
    "name": "ipython",
    "version": 3
   },
   "file_extension": ".py",
   "mimetype": "text/x-python",
   "name": "python",
   "nbconvert_exporter": "python",
   "pygments_lexer": "ipython3",
   "version": "3.8.8"
  }
 },
 "nbformat": 4,
 "nbformat_minor": 5
}
